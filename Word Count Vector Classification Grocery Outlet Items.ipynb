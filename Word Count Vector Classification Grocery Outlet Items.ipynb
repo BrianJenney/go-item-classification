{
 "cells": [
  {
   "cell_type": "code",
   "execution_count": 127,
   "metadata": {
    "collapsed": false
   },
   "outputs": [
    {
     "data": {
      "image/png": "[encoded data removed]",
      "text/plain": [
       "<matplotlib.figure.Figure at 0x11a4d6710>"
      ]
     },
     "metadata": {},
     "output_type": "display_data"
    }
   ],
   "source": [
    "import pandas as pd\n",
    "import csv\n",
    "import matplotlib.pyplot as plt\n",
    "import numpy as np\n",
    "from sklearn import tree\n",
    "import seaborn as sns\n",
    "from nltk.corpus import stopwords\n",
    "from sklearn.ensemble import RandomForestClassifier\n",
    "from sklearn.tree import export_graphviz\n",
    "from sklearn.feature_extraction.text import CountVectorizer\n",
    "from sklearn.cluster import KMeans\n",
    "%matplotlib inline\n",
    "\n",
    "countvec = CountVectorizer()\n",
    "\n",
    "stop = stopwords.words('english')\n",
    "\n",
    "#read file\n",
    "items = pd.read_csv('/users/brianjenney/desktop/datascience/goiitems/items.csv',error_bad_lines=False, encoding='utf-8', engine='c')\n",
    "\n",
    "#only get columns/rows we need\n",
    "items = items.ix[1:,2:7]\n",
    "\n",
    "#rename columns\n",
    "items.columns=['ItemNum', 'Class', 'SubClass', 'Desc']\n",
    "\n",
    "#keep array items name to append to wordbag list\n",
    "descArray = items['Desc']\n",
    "\n",
    "#strip stop words\n",
    "items['Desc'].apply(lambda x: [item for item in x if item not in stop])\n",
    "\n",
    "#strip numbers from desc\n",
    "items['Desc'] = items['Desc'] .str.replace('\\d+', '')\n",
    "\n",
    "#create data frame with doc matrix\n",
    "dm = pd.DataFrame(countvec.fit_transform(items['Desc']).toarray(), columns=countvec.get_feature_names())\n",
    "\n",
    "#match the indexes\n",
    "dm = dm.reset_index(drop=True)\n",
    "items = items.reset_index(drop=True)\n",
    "\n",
    "#concatenate the frames\n",
    "wordbag = pd.concat([dm, items], axis=1)\n",
    "\n",
    "#remove the description column and only have numeric data\n",
    "wordbag = wordbag.iloc[:, :-1]\n",
    "\n",
    "#create clusters from documents\n",
    "estimator = KMeans(n_clusters=5)\n",
    "estimator.fit(wordbag)\n",
    "\n",
    "#add categories and descriptions to the dataframe\n",
    "wordbag['Category'] = estimator.labels_\n",
    "\n",
    "#wordbag = wordbag.sort_values('Category', ascending=False)\n",
    "\n",
    "# And we'll visualize it:\n",
    "plt.figure(figsize=(8, 6))\n",
    "plt.scatter(wordbag['Category'], wordbag['ItemNum'], c=estimator.labels_.astype(float))\n",
    "plt.show()"
   ]
  },
  {
   "cell_type": "code",
   "execution_count": null,
   "metadata": {
    "collapsed": true
   },
   "outputs": [],
   "source": []
  },
  {
   "cell_type": "code",
   "execution_count": null,
   "metadata": {
    "collapsed": true
   },
   "outputs": [],
   "source": []
  }
 ],
 "metadata": {
  "kernelspec": {
   "display_name": "Python 2",
   "language": "python",
   "name": "python2"
  },
  "language_info": {
   "codemirror_mode": {
    "name": "ipython",
    "version": 2
   },
   "file_extension": ".py",
   "mimetype": "text/x-python",
   "name": "python",
   "nbconvert_exporter": "python",
   "pygments_lexer": "ipython2",
   "version": "2.7.11"
  }
 },
 "nbformat": 4,
 "nbformat_minor": 0
}
